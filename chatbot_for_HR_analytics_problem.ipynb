{
  "cells": [
    {
      "cell_type": "markdown",
      "metadata": {
        "id": "view-in-github",
        "colab_type": "text"
      },
      "source": [
        "<a href=\"https://colab.research.google.com/github/mohammadsanaee/HR_Kaggle_problem_telegramBOT/blob/main/chatbot_for_HR_analytics_problem.ipynb\" target=\"_parent\"><img src=\"https://colab.research.google.com/assets/colab-badge.svg\" alt=\"Open In Colab\"/></a>"
      ]
    },
    {
      "cell_type": "code",
      "execution_count": null,
      "id": "9c5c7bc6",
      "metadata": {
        "id": "9c5c7bc6",
        "colab": {
          "base_uri": "https://localhost:8080/"
        },
        "outputId": "1ec36cb6-1dab-4357-a4c7-af76d63e4173"
      },
      "outputs": [
        {
          "output_type": "stream",
          "name": "stdout",
          "text": [
            "Looking in indexes: https://pypi.org/simple, https://us-python.pkg.dev/colab-wheels/public/simple/\n",
            "Collecting pyTelegramBotAPI\n",
            "  Downloading pyTelegramBotAPI-4.10.0.tar.gz (222 kB)\n",
            "\u001b[2K     \u001b[90m━━━━━━━━━━━━━━━━━━━━━━━━━━━━━━━━━━━━━━━\u001b[0m \u001b[32m222.9/222.9 KB\u001b[0m \u001b[31m6.5 MB/s\u001b[0m eta \u001b[36m0:00:00\u001b[0m\n",
            "\u001b[?25h  Preparing metadata (setup.py) ... \u001b[?25l\u001b[?25hdone\n",
            "Requirement already satisfied: requests in /usr/local/lib/python3.8/dist-packages (from pyTelegramBotAPI) (2.25.1)\n",
            "Requirement already satisfied: idna<3,>=2.5 in /usr/local/lib/python3.8/dist-packages (from requests->pyTelegramBotAPI) (2.10)\n",
            "Requirement already satisfied: certifi>=2017.4.17 in /usr/local/lib/python3.8/dist-packages (from requests->pyTelegramBotAPI) (2022.12.7)\n",
            "Requirement already satisfied: chardet<5,>=3.0.2 in /usr/local/lib/python3.8/dist-packages (from requests->pyTelegramBotAPI) (4.0.0)\n",
            "Requirement already satisfied: urllib3<1.27,>=1.21.1 in /usr/local/lib/python3.8/dist-packages (from requests->pyTelegramBotAPI) (1.24.3)\n",
            "Building wheels for collected packages: pyTelegramBotAPI\n",
            "  Building wheel for pyTelegramBotAPI (setup.py) ... \u001b[?25l\u001b[?25hdone\n",
            "  Created wheel for pyTelegramBotAPI: filename=pyTelegramBotAPI-4.10.0-py3-none-any.whl size=205420 sha256=96b42473a92015630c0b0e4a0e722117ed4920fb163dbea337a627791eaffbb9\n",
            "  Stored in directory: /root/.cache/pip/wheels/ee/e3/f1/4c142d3be2e5f09c1ba8bf5801ae61d7b2cfd9afe497872806\n",
            "Successfully built pyTelegramBotAPI\n",
            "Installing collected packages: pyTelegramBotAPI\n",
            "Successfully installed pyTelegramBotAPI-4.10.0\n"
          ]
        }
      ],
      "source": [
        "!pip3 install pyTelegramBotAPI"
      ]
    },
    {
      "cell_type": "code",
      "execution_count": null,
      "id": "3da451b0",
      "metadata": {
        "id": "3da451b0"
      },
      "outputs": [],
      "source": [
        "!pip3 install openai"
      ]
    },
    {
      "cell_type": "markdown",
      "id": "d7a014b6",
      "metadata": {
        "id": "d7a014b6"
      },
      "source": [
        "https://platform.openai.com/docs/quickstart/add-your-api-key"
      ]
    },
    {
      "cell_type": "code",
      "execution_count": null,
      "id": "77f7a4cd",
      "metadata": {
        "id": "77f7a4cd"
      },
      "outputs": [],
      "source": [
        "openai.api_key = ''\n",
        "TELEGRAM_TOKEN = ''"
      ]
    },
    {
      "cell_type": "code",
      "execution_count": null,
      "id": "75005b7d",
      "metadata": {
        "id": "75005b7d"
      },
      "outputs": [],
      "source": [
        "import openai\n",
        "import telebot\n",
        "import requests"
      ]
    },
    {
      "cell_type": "code",
      "execution_count": 7,
      "id": "1325fa7d",
      "metadata": {
        "id": "1325fa7d"
      },
      "outputs": [],
      "source": [
        "import joblib\n",
        "loaded_model = joblib.load('random_forest_model.pkl')"
      ]
    },
    {
      "cell_type": "code",
      "source": [
        "import pandas as pd\n",
        "\n",
        "input = pd.DataFrame({'enrollee_id':[ 8949.0],\n",
        " 'city': [5.0],\n",
        " 'city_development_index': [0.92],\n",
        " 'gender': [1.0],\n",
        " 'relevent_experience': [0.0],\n",
        " 'enrolled_university': [2.0],\n",
        " 'education_level': [0.0],\n",
        " 'major_discipline': [5.0],\n",
        " 'experience': [21.0],\n",
        " 'company_size': [4.0],\n",
        " 'company_type': [6.0],\n",
        " 'last_new_job': [0.0],\n",
        " 'training_hours': [36.0]})"
      ],
      "metadata": {
        "id": "hL9Wyag2C3Xj"
      },
      "id": "hL9Wyag2C3Xj",
      "execution_count": 34,
      "outputs": []
    },
    {
      "cell_type": "code",
      "source": [
        "loaded_model.predict(input.to_numpy())"
      ],
      "metadata": {
        "colab": {
          "base_uri": "https://localhost:8080/"
        },
        "id": "dPgi3NliGaYl",
        "outputId": "307a52a0-9a61-4760-d002-d917d4a04332"
      },
      "id": "dPgi3NliGaYl",
      "execution_count": 35,
      "outputs": [
        {
          "output_type": "execute_result",
          "data": {
            "text/plain": [
              "array([1.])"
            ]
          },
          "metadata": {},
          "execution_count": 35
        }
      ]
    },
    {
      "cell_type": "code",
      "source": [
        "from telebot import types\n"
      ],
      "metadata": {
        "id": "m5UsM1lsPXM5"
      },
      "id": "m5UsM1lsPXM5",
      "execution_count": 41,
      "outputs": []
    },
    {
      "cell_type": "code",
      "execution_count": 49,
      "id": "ba84c1bf",
      "metadata": {
        "id": "ba84c1bf"
      },
      "outputs": [],
      "source": [
        "bot = telebot.TeleBot(TELEGRAM_TOKEN)\n",
        "\n",
        "# @bot.message_handler(commands=['start'])\n",
        "# def start(m, res=False):\n",
        "# #   image_resp = openai.Image.create(prompt=\"two dogs playing chess, oil painting\", n=4, size=\"512x512\")\n",
        "# #   generated_image_url = image_resp[\"data\"][1][\"url\"]\n",
        "#     response = 'input years of experience'\n",
        "#     bot.send_message(m.chat.id, response)\n",
        "@bot.message_handler(commands=['help', 'start'])\n",
        "def send_welcome(message):\n",
        "    msg = bot.reply_to(message, \"\"\"\\\n",
        "Hi there, input years of experience.\n",
        "\"\"\")\n",
        "    bot.register_next_step_handler(msg, process_exp_step)\n",
        "\n",
        "def process_exp_step(message):\n",
        "    try:\n",
        "        chat_id = message.chat.id\n",
        "        exp = message.text\n",
        "        if not exp.isdigit():\n",
        "            msg = bot.reply_to(message, 'experience should be a number. ')\n",
        "            bot.register_next_step_handler(msg, process_exp_step)\n",
        "            return\n",
        "        input['experience'] = int(exp)\n",
        "        msg = bot.reply_to(message, 'How much is your training hours?')\n",
        "        bot.register_next_step_handler(msg, process_training_hours)\n",
        "    except Exception as e:\n",
        "        bot.reply_to(message, 'oooops')\n",
        "def process_training_hours(message):\n",
        "    try:\n",
        "        chat_id = message.chat.id\n",
        "        age = message.text\n",
        "        if not age.isdigit():\n",
        "            msg = bot.reply_to(message, 'training hours should be a number.')\n",
        "            bot.register_next_step_handler(msg, process_training_hours)\n",
        "            return\n",
        "        input['training_hours'] = age\n",
        "        markup = types.ReplyKeyboardMarkup(one_time_keyboard=True)\n",
        "        markup.add('Male', 'Female')\n",
        "        msg = bot.reply_to(message, 'What is your gender', reply_markup=markup)\n",
        "        bot.register_next_step_handler(msg, process_sex_step)\n",
        "    except Exception as e:\n",
        "        bot.reply_to(message, 'oooops')\n",
        "\n",
        "\n",
        "def process_sex_step(message):\n",
        "    try:\n",
        "        chat_id = message.chat.id\n",
        "        sex = message.text\n",
        "        if (sex == u'Male'):\n",
        "          input['gender']=1\n",
        "        elif (sex == u'Female'):\n",
        "            input['gender']=0\n",
        "        else:\n",
        "            raise Exception(\"Unknown sex\")\n",
        "        result = loaded_model.predict(input.to_numpy())\n",
        "        if result==1:\n",
        "          bot.send_message(message.chat.id, 'looking for a new job')\n",
        "        else:\n",
        "          bot.send_message(message.chat.id, 'not looking for a new job')\n",
        "    except Exception as e:\n",
        "        bot.reply_to(message, 'oooops')\n",
        "\n",
        "# bot.enable_save_next_step_handlers(delay=2)\n",
        "\n",
        "\n",
        "# bot.load_next_step_handlers()\n",
        "\n",
        "# bot.infinity_polling()\n",
        "bot.polling(none_stop=True, interval=0)"
      ]
    },
    {
      "cell_type": "code",
      "source": [],
      "metadata": {
        "id": "jgxRQue-ICib"
      },
      "id": "jgxRQue-ICib",
      "execution_count": null,
      "outputs": []
    },
    {
      "cell_type": "markdown",
      "id": "674432ca",
      "metadata": {
        "id": "674432ca"
      },
      "source": [
        "## Model Implementing"
      ]
    },
    {
      "cell_type": "code",
      "execution_count": null,
      "id": "f016880f",
      "metadata": {
        "id": "f016880f"
      },
      "outputs": [],
      "source": [
        "#here is your model learning part"
      ]
    },
    {
      "cell_type": "code",
      "execution_count": null,
      "id": "9c469f02",
      "metadata": {
        "id": "9c469f02"
      },
      "outputs": [],
      "source": []
    },
    {
      "cell_type": "code",
      "execution_count": null,
      "id": "3e0602f4",
      "metadata": {
        "id": "3e0602f4"
      },
      "outputs": [],
      "source": []
    },
    {
      "cell_type": "code",
      "execution_count": null,
      "id": "0d6063dd",
      "metadata": {
        "id": "0d6063dd"
      },
      "outputs": [],
      "source": []
    },
    {
      "cell_type": "code",
      "execution_count": null,
      "id": "7ad91f84",
      "metadata": {
        "id": "7ad91f84"
      },
      "outputs": [],
      "source": []
    },
    {
      "cell_type": "code",
      "execution_count": null,
      "id": "d50ed0b5",
      "metadata": {
        "id": "d50ed0b5"
      },
      "outputs": [],
      "source": []
    },
    {
      "cell_type": "code",
      "execution_count": null,
      "id": "9445a1a1",
      "metadata": {
        "id": "9445a1a1",
        "outputId": "7d9715a5-5e08-4a9d-e2b0-4205011c1f2e"
      },
      "outputs": [
        {
          "name": "stdout",
          "output_type": "stream",
          "text": [
            "\n",
            "\n",
            "Elephant is a large mammal found in Africa and parts of Asia. It is the largest living land animal, with males reaching up to 11 feet tall and weighing up to 13,000 pounds. Elephants have thick gray skin, long trunks, and large ears. They are herbivores, eating mostly grass, leaves, and bark.\n"
          ]
        }
      ],
      "source": [
        "response = openai.Completion.create(\n",
        "        model=\"text-davinci-003\",\n",
        "        prompt=\"what is elephant?\",\n",
        "        max_tokens=2048,\n",
        "        n=1,\n",
        "        stop=None,\n",
        "        temperature=0.5,\n",
        "    ).choices[0].text\n",
        "\n",
        "print(response)"
      ]
    },
    {
      "cell_type": "code",
      "execution_count": null,
      "id": "866c968c",
      "metadata": {
        "id": "866c968c"
      },
      "outputs": [],
      "source": []
    }
  ],
  "metadata": {
    "kernelspec": {
      "display_name": "Python 3 (ipykernel)",
      "language": "python",
      "name": "python3"
    },
    "language_info": {
      "codemirror_mode": {
        "name": "ipython",
        "version": 3
      },
      "file_extension": ".py",
      "mimetype": "text/x-python",
      "name": "python",
      "nbconvert_exporter": "python",
      "pygments_lexer": "ipython3",
      "version": "3.8.9"
    },
    "colab": {
      "provenance": [],
      "include_colab_link": true
    }
  },
  "nbformat": 4,
  "nbformat_minor": 5
}